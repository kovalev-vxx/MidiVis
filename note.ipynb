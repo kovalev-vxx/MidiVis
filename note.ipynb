{
 "metadata": {
  "language_info": {
   "codemirror_mode": {
    "name": "ipython",
    "version": 3
   },
   "file_extension": ".py",
   "mimetype": "text/x-python",
   "name": "python",
   "nbconvert_exporter": "python",
   "pygments_lexer": "ipython3",
   "version": "3.8.5"
  },
  "orig_nbformat": 2,
  "kernelspec": {
   "name": "python385jvsc74a57bd0d8295a89d93b396146edd0a1e667f3f765ed6ea2378cbf21a8e5a1e7c91280c9",
   "display_name": "Python 3.8.5 64-bit ('MidiVis': conda)"
  },
  "metadata": {
   "interpreter": {
    "hash": "d8295a89d93b396146edd0a1e667f3f765ed6ea2378cbf21a8e5a1e7c91280c9"
   }
  }
 },
 "nbformat": 4,
 "nbformat_minor": 2,
 "cells": [
  {
   "cell_type": "code",
   "execution_count": 1,
   "metadata": {},
   "outputs": [],
   "source": [
    "from mido import MidiFile, MidiTrack, second2tick\n",
    "from mido.frozen import freeze_message"
   ]
  },
  {
   "cell_type": "code",
   "execution_count": 9,
   "metadata": {},
   "outputs": [],
   "source": [
    "song = MidiFile(\"/Users/kovalev/code/MidiVis/piano chords.mid\")"
   ]
  },
  {
   "cell_type": "code",
   "execution_count": 157,
   "metadata": {},
   "outputs": [],
   "source": [
    "tracks = song.tracks #Получаем треки миди файла\n",
    "meta = tracks[0] #Первый трек всегда информация о дорожке "
   ]
  },
  {
   "cell_type": "code",
   "execution_count": 151,
   "metadata": {},
   "outputs": [],
   "source": [
    "#Парсим миди трэк\n",
    "def track_parser(track):\n",
    "    notes = [i for i in track if (i.type==\"note_on\" and i.time!=0) or (i.type==\"note_off\")] #оставляем только ноты и паузы\n",
    "    chords = []\n",
    "    for note in notes:\n",
    "        if note.type == \"note_off\" and note.time !=0:\n",
    "            chords.append({\"notes\":[note.note], \"time\": note.time, \"velocity\": note.velocity})\n",
    "        elif note.type == \"note_off\" and note.time ==0:\n",
    "            chords[len(chords)-1][\"notes\"].append(note.note) \n",
    "        else:\n",
    "            chords.append({\"notes\":[0], \"time\": note.time, \"velocity\": note.velocity})\n",
    "    return chords  "
   ]
  },
  {
   "cell_type": "code",
   "execution_count": 159,
   "metadata": {},
   "outputs": [
    {
     "output_type": "execute_result",
     "data": {
      "text/plain": [
       "[{'notes': [60, 64, 67], 'time': 480, 'velocity': 64},\n",
       " {'notes': [65, 69, 72], 'time': 480, 'velocity': 64},\n",
       " {'notes': [67, 71, 74], 'time': 480, 'velocity': 64},\n",
       " {'notes': [77], 'time': 480, 'velocity': 64},\n",
       " {'notes': [0], 'time': 960, 'velocity': 72},\n",
       " {'notes': [60, 64, 67], 'time': 960, 'velocity': 64},\n",
       " {'notes': [0], 'time': 1920, 'velocity': 72},\n",
       " {'notes': [60], 'time': 480, 'velocity': 64},\n",
       " {'notes': [64], 'time': 480, 'velocity': 64},\n",
       " {'notes': [67], 'time': 480, 'velocity': 64},\n",
       " {'notes': [77], 'time': 480, 'velocity': 64},\n",
       " {'notes': [0], 'time': 960, 'velocity': 72},\n",
       " {'notes': [60], 'time': 960, 'velocity': 64}]"
      ]
     },
     "metadata": {},
     "execution_count": 159
    }
   ],
   "source": [
    "track_parser(tracks[1])"
   ]
  },
  {
   "cell_type": "code",
   "execution_count": null,
   "metadata": {},
   "outputs": [],
   "source": []
  }
 ]
}