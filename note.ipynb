{
 "metadata": {
  "language_info": {
   "codemirror_mode": {
    "name": "ipython",
    "version": 3
   },
   "file_extension": ".py",
   "mimetype": "text/x-python",
   "name": "python",
   "nbconvert_exporter": "python",
   "pygments_lexer": "ipython3",
   "version": "3.8.5"
  },
  "orig_nbformat": 2,
  "kernelspec": {
   "name": "python385jvsc74a57bd0d8295a89d93b396146edd0a1e667f3f765ed6ea2378cbf21a8e5a1e7c91280c9",
   "display_name": "Python 3.8.5 64-bit ('MidiVis': conda)"
  },
  "metadata": {
   "interpreter": {
    "hash": "d8295a89d93b396146edd0a1e667f3f765ed6ea2378cbf21a8e5a1e7c91280c9"
   }
  }
 },
 "nbformat": 4,
 "nbformat_minor": 2,
 "cells": [
  {
   "cell_type": "code",
   "execution_count": 103,
   "metadata": {},
   "outputs": [],
   "source": [
    "from mido import MidiFile, MidiTrack, second2tick\n",
    "from mido.frozen import freeze_message"
   ]
  },
  {
   "cell_type": "code",
   "execution_count": 153,
   "metadata": {},
   "outputs": [],
   "source": [
    "song = MidiFile(\"/Users/kovalev/code/MidiVis/piano chords.mid\")\n",
    "pause = MidiFile(\"/Users/kovalev/code/MidiVis/pause.mid\")\n",
    "hard = MidiFile(\"/Users/kovalev/code/MidiVis/hard_dur.mid\")"
   ]
  },
  {
   "source": [
    "Как найти паузу:\n",
    "У каждой ноты есть note_off и note_on,  \n"
   ],
   "cell_type": "markdown",
   "metadata": {}
  },
  {
   "cell_type": "code",
   "execution_count": 154,
   "metadata": {},
   "outputs": [
    {
     "output_type": "execute_result",
     "data": {
      "text/plain": [
       "MidiFile(type=1, ticks_per_beat=480, tracks=[\n",
       "  MidiTrack([\n",
       "    MetaMessage('set_tempo', tempo=500000, time=0),\n",
       "    MetaMessage('end_of_track', time=0)]),\n",
       "  MidiTrack([\n",
       "    MetaMessage('track_name', name='Acoustic Piano', time=0),\n",
       "    Message('program_change', channel=0, program=0, time=0),\n",
       "    MetaMessage('time_signature', numerator=4, denominator=4, clocks_per_click=24, notated_32nd_notes_per_beat=8, time=0),\n",
       "    Message('note_on', channel=0, note=64, velocity=72, time=0),\n",
       "    MetaMessage('key_signature', key='C', time=0),\n",
       "    Message('control_change', channel=0, control=101, value=0, time=0),\n",
       "    Message('control_change', channel=0, control=100, value=0, time=0),\n",
       "    Message('control_change', channel=0, control=6, value=6, time=0),\n",
       "    Message('note_off', channel=0, note=64, velocity=64, time=720),\n",
       "    Message('note_on', channel=0, note=67, velocity=72, time=240),\n",
       "    Message('note_off', channel=0, note=67, velocity=64, time=480),\n",
       "    MetaMessage('end_of_track', time=0)]),\n",
       "  MidiTrack([\n",
       "    MetaMessage('track_name', name='Acoustic Piano', time=0),\n",
       "    Message('program_change', channel=0, program=0, time=0),\n",
       "    MetaMessage('key_signature', key='C', time=0),\n",
       "    Message('control_change', channel=0, control=101, value=0, time=0),\n",
       "    Message('control_change', channel=0, control=100, value=0, time=0),\n",
       "    Message('control_change', channel=0, control=6, value=6, time=0),\n",
       "    MetaMessage('end_of_track', time=0)])\n",
       "])"
      ]
     },
     "metadata": {},
     "execution_count": 154
    }
   ],
   "source": [
    "hard"
   ]
  },
  {
   "cell_type": "code",
   "execution_count": 89,
   "metadata": {},
   "outputs": [
    {
     "output_type": "execute_result",
     "data": {
      "text/plain": [
       "4.0"
      ]
     },
     "metadata": {},
     "execution_count": 89
    }
   ],
   "source": [
    "song.length"
   ]
  },
  {
   "cell_type": "code",
   "execution_count": 94,
   "metadata": {},
   "outputs": [],
   "source": [
    "MetaInfo = song.tracks[0][0]"
   ]
  },
  {
   "cell_type": "code",
   "execution_count": 144,
   "metadata": {},
   "outputs": [
    {
     "output_type": "execute_result",
     "data": {
      "text/plain": [
       "MidiTrack([\n",
       "  MetaMessage('track_name', name='Acoustic Piano', time=0),\n",
       "  Message('program_change', channel=0, program=0, time=0),\n",
       "  MetaMessage('time_signature', numerator=4, denominator=4, clocks_per_click=24, notated_32nd_notes_per_beat=8, time=0),\n",
       "  Message('note_on', channel=0, note=60, velocity=72, time=0),\n",
       "  Message('note_on', channel=0, note=64, velocity=72, time=0),\n",
       "  Message('note_on', channel=0, note=67, velocity=72, time=0),\n",
       "  MetaMessage('key_signature', key='C', time=0),\n",
       "  Message('control_change', channel=0, control=101, value=0, time=0),\n",
       "  Message('control_change', channel=0, control=100, value=0, time=0),\n",
       "  Message('control_change', channel=0, control=6, value=6, time=0),\n",
       "  Message('note_off', channel=0, note=60, velocity=64, time=480),\n",
       "  Message('note_off', channel=0, note=64, velocity=64, time=0),\n",
       "  Message('note_off', channel=0, note=67, velocity=64, time=0),\n",
       "  Message('note_on', channel=0, note=65, velocity=72, time=0),\n",
       "  Message('note_on', channel=0, note=69, velocity=72, time=0),\n",
       "  Message('note_on', channel=0, note=72, velocity=72, time=0),\n",
       "  Message('note_off', channel=0, note=65, velocity=64, time=480),\n",
       "  Message('note_off', channel=0, note=69, velocity=64, time=0),\n",
       "  Message('note_off', channel=0, note=72, velocity=64, time=0),\n",
       "  Message('note_on', channel=0, note=67, velocity=72, time=0),\n",
       "  Message('note_on', channel=0, note=71, velocity=72, time=0),\n",
       "  Message('note_on', channel=0, note=74, velocity=72, time=0),\n",
       "  Message('note_off', channel=0, note=67, velocity=64, time=480),\n",
       "  Message('note_off', channel=0, note=71, velocity=64, time=0),\n",
       "  Message('note_off', channel=0, note=74, velocity=64, time=0),\n",
       "  Message('note_on', channel=0, note=77, velocity=72, time=0),\n",
       "  Message('note_off', channel=0, note=77, velocity=64, time=480),\n",
       "  Message('note_on', channel=0, note=60, velocity=72, time=960),\n",
       "  Message('note_on', channel=0, note=64, velocity=72, time=0),\n",
       "  Message('note_on', channel=0, note=67, velocity=72, time=0),\n",
       "  Message('note_off', channel=0, note=60, velocity=64, time=960),\n",
       "  Message('note_off', channel=0, note=64, velocity=64, time=0),\n",
       "  Message('note_off', channel=0, note=67, velocity=64, time=0),\n",
       "  Message('note_on', channel=0, note=60, velocity=72, time=1920),\n",
       "  Message('note_off', channel=0, note=60, velocity=64, time=480),\n",
       "  Message('note_on', channel=0, note=64, velocity=72, time=0),\n",
       "  Message('note_off', channel=0, note=64, velocity=64, time=480),\n",
       "  Message('note_on', channel=0, note=67, velocity=72, time=0),\n",
       "  Message('note_off', channel=0, note=67, velocity=64, time=480),\n",
       "  Message('note_on', channel=0, note=77, velocity=72, time=0),\n",
       "  Message('note_off', channel=0, note=77, velocity=64, time=480),\n",
       "  Message('note_on', channel=0, note=60, velocity=72, time=960),\n",
       "  Message('note_off', channel=0, note=60, velocity=64, time=960),\n",
       "  MetaMessage('end_of_track', time=0)])"
      ]
     },
     "metadata": {},
     "execution_count": 144
    }
   ],
   "source": [
    "song.tracks[1]"
   ]
  },
  {
   "cell_type": "code",
   "execution_count": 126,
   "metadata": {},
   "outputs": [
    {
     "output_type": "stream",
     "name": "stdout",
     "text": [
      "18 18\nnote_on channel=0 note=60 velocity=72 time=0 note_off channel=0 note=60 velocity=64 time=480\nnote_on channel=0 note=64 velocity=72 time=0 note_off channel=0 note=64 velocity=64 time=0\nnote_on channel=0 note=67 velocity=72 time=0 note_off channel=0 note=67 velocity=64 time=0\nnote_on channel=0 note=65 velocity=72 time=0 note_off channel=0 note=65 velocity=64 time=480\nnote_on channel=0 note=69 velocity=72 time=0 note_off channel=0 note=69 velocity=64 time=0\nnote_on channel=0 note=72 velocity=72 time=0 note_off channel=0 note=72 velocity=64 time=0\nnote_on channel=0 note=67 velocity=72 time=0 note_off channel=0 note=67 velocity=64 time=480\nnote_on channel=0 note=71 velocity=72 time=0 note_off channel=0 note=71 velocity=64 time=0\nnote_on channel=0 note=74 velocity=72 time=0 note_off channel=0 note=74 velocity=64 time=0\nnote_on channel=0 note=77 velocity=72 time=0 note_off channel=0 note=77 velocity=64 time=480\nnote_on channel=0 note=60 velocity=72 time=960 note_off channel=0 note=60 velocity=64 time=960\nnote_on channel=0 note=64 velocity=72 time=0 note_off channel=0 note=64 velocity=64 time=0\nnote_on channel=0 note=67 velocity=72 time=0 note_off channel=0 note=67 velocity=64 time=0\nnote_on channel=0 note=60 velocity=72 time=1920 note_off channel=0 note=60 velocity=64 time=480\nnote_on channel=0 note=64 velocity=72 time=0 note_off channel=0 note=64 velocity=64 time=480\nnote_on channel=0 note=67 velocity=72 time=0 note_off channel=0 note=67 velocity=64 time=480\nnote_on channel=0 note=77 velocity=72 time=0 note_off channel=0 note=77 velocity=64 time=480\nnote_on channel=0 note=60 velocity=72 time=960 note_off channel=0 note=60 velocity=64 time=960\n"
     ]
    }
   ],
   "source": [
    "notes_on = [i for i in song.tracks[1] if i.type==\"note_on\" or i.type==\"note_off\"]"
   ]
  },
  {
   "cell_type": "code",
   "execution_count": 143,
   "metadata": {},
   "outputs": [
    {
     "output_type": "execute_result",
     "data": {
      "text/plain": [
       "[{'notes': [60, 64, 67], 'time': 480, 'velocity': 64},\n",
       " {'notes': [65, 69, 72], 'time': 480, 'velocity': 64},\n",
       " {'notes': [67, 71, 74], 'time': 480, 'velocity': 64},\n",
       " {'notes': [77], 'time': 480, 'velocity': 64},\n",
       " {'notes': [60, 64, 67], 'time': 960, 'velocity': 64},\n",
       " {'notes': [60], 'time': 480, 'velocity': 64},\n",
       " {'notes': [64], 'time': 480, 'velocity': 64},\n",
       " {'notes': [67], 'time': 480, 'velocity': 64},\n",
       " {'notes': [77], 'time': 480, 'velocity': 64},\n",
       " {'notes': [60], 'time': 960, 'velocity': 64}]"
      ]
     },
     "metadata": {},
     "execution_count": 143
    }
   ],
   "source": [
    "when_note_off = [i for i in range(len(notes_off)) if notes_off[i].time !=0]\n",
    "chords = []\n",
    "for i in range(len(when_note_off)):\n",
    "    chord = {\"notes\":[], \"time\": 0, \"velocity\": 0}\n",
    "    try:\n",
    "        for note in notes_off[when_note_off[i]:when_note_off[i+1]]:\n",
    "            chord[\"notes\"].append(note.note)\n",
    "            if note.time != 0: chord[\"time\"] = note.time\n",
    "            chord[\"velocity\"] = note.velocity\n",
    "    except IndexError:\n",
    "        note = notes_off[when_note_off[i]]\n",
    "        chord[\"notes\"].append(note.note)\n",
    "        chord[\"time\"] = note.time\n",
    "        chord[\"velocity\"] = note.velocity\n",
    "    chords.append(chord)\n",
    "chords"
   ]
  },
  {
   "cell_type": "code",
   "execution_count": 70,
   "metadata": {},
   "outputs": [
    {
     "output_type": "stream",
     "name": "stdout",
     "text": [
      "500000\n"
     ]
    }
   ],
   "source": [
    "for c,i in enumerate(song):\n",
    "    try:\n",
    "        if i.type == \"set_tempo\":\n",
    "            print(i.tempo)\n",
    "    except:\n",
    "        continue"
   ]
  },
  {
   "cell_type": "code",
   "execution_count": 67,
   "metadata": {},
   "outputs": [
    {
     "output_type": "execute_result",
     "data": {
      "text/plain": [
       "MidiTrack([\n",
       "  MetaMessage('set_tempo', tempo=500000, time=0),\n",
       "  MetaMessage('end_of_track', time=0)])"
      ]
     },
     "metadata": {},
     "execution_count": 67
    }
   ],
   "source": [
    "song.tracks[0]"
   ]
  },
  {
   "cell_type": "code",
   "execution_count": 139,
   "metadata": {},
   "outputs": [
    {
     "output_type": "execute_result",
     "data": {
      "text/plain": [
       "[1]"
      ]
     },
     "metadata": {},
     "execution_count": 139
    }
   ],
   "source": [
    "chord = {\"notes\":[], \"time\": 0, \"velocity\": 0}\n",
    "chord[\"notes\"].append(1)\n",
    "chord[\"notes\"]\n"
   ]
  },
  {
   "cell_type": "code",
   "execution_count": null,
   "metadata": {},
   "outputs": [],
   "source": []
  }
 ]
}